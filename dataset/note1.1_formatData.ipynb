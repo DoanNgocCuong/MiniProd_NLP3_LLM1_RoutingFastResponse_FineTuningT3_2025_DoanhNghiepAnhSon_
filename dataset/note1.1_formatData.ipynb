{
 "cells": [
  {
   "cell_type": "markdown",
   "metadata": {},
   "source": [
    "- https://www.philschmid.de/fine-tune-modern-bert-in-2025\n",
    "- https://github.com/sileod/tasknet\n",
    "- https://github.com/Zjh-819/LLMDataHub"
   ]
  },
  {
   "cell_type": "markdown",
   "metadata": {},
   "source": [
    "# 1. Chuẩn bị format data. \n",
    "\n",
    "1. Có format của anh Sơn đưa \n",
    "2. Search format các bài tương tự = GPT mãi không ra. \n",
    "3. Research các bài báo. \n",
    "---\n",
    "Cho định dạng chuẩn của data chuẩn bị cho các bài định tuyeestn "
   ]
  },
  {
   "cell_type": "markdown",
   "metadata": {},
   "source": []
  },
  {
   "cell_type": "markdown",
   "metadata": {},
   "source": [
    "Để **fine-tune** mô hình ngôn ngữ lớn (LLM) cho nhiệm vụ **task routing**, việc chuẩn bị dữ liệu đầu ra với định dạng phù hợp là rất quan trọng. Dưới đây là một số định dạng dữ liệu đầu ra thường được sử dụng trong các bài toán fine-tuning cho task routing:\n",
    "\n",
    "1. **Định dạng JSON có cấu trúc**:\n",
    "   - Dữ liệu đầu ra thường được biểu diễn dưới dạng các đối tượng JSON với các trường như `tool`, `action` và `content`. Ví dụ:\n",
    "     ```json\n",
    "     {\n",
    "       \"tool\": \"todo\",\n",
    "       \"action\": \"create\",\n",
    "       \"content\": \"Thiết kế dữ liệu cho hệ thống quản lý sản phẩm\"\n",
    "     }\n",
    "     ```\n",
    "     Định dạng này giúp mô hình dễ dàng hiểu và xử lý các tác vụ được chỉ định.\n",
    "\n",
    "2. **Cặp \"prompt-completion\"**:\n",
    "   - Trong quá trình huấn luyện, dữ liệu thường được tổ chức dưới dạng cặp \"prompt\" (lời nhắc) và \"completion\" (phản hồi). Ví dụ:\n",
    "     ```json\n",
    "     {\n",
    "       \"prompt\": \"Ghi chú cho tôi công việc thiết kế dữ liệu cho hệ thống quản lý sản phẩm\",\n",
    "       \"completion\": \"{\\\"tool\\\": \\\"todo\\\", \\\"action\\\": \\\"create\\\", \\\"content\\\": \\\"Thiết kế dữ liệu cho hệ thống quản lý sản phẩm\\\"}\"\n",
    "     }\n",
    "     ```\n",
    "     Cách tiếp cận này giúp mô hình học cách tạo ra phản hồi có cấu trúc dựa trên đầu vào cụ thể.\n",
    "\n",
    "3. **Định dạng văn bản đơn giản**:\n",
    "   - Trong một số trường hợp, dữ liệu đầu ra có thể được biểu diễn dưới dạng văn bản đơn giản, nơi mỗi dòng đại diện cho một mẫu dữ liệu. Ví dụ:\n",
    "     ```\n",
    "     Ghi chú cho tôi công việc thiết kế dữ liệu cho hệ thống quản lý sản phẩm\\ttodo\\tcreate\\tThiết kế dữ liệu cho hệ thống quản lý sản phẩm\n",
    "     ```\n",
    "     Mỗi trường được phân tách bằng dấu tab, giúp dễ dàng phân tích cú pháp và xử lý.\n",
    "\n",
    "**Lưu ý**: Việc lựa chọn định dạng dữ liệu đầu ra phù hợp phụ thuộc vào yêu cầu cụ thể của mô hình và hệ thống triển khai. Đảm bảo rằng dữ liệu được định dạng nhất quán và rõ ràng sẽ giúp cải thiện hiệu suất và độ chính xác của mô hình trong nhiệm vụ task routing. "
   ]
  },
  {
   "cell_type": "markdown",
   "metadata": {},
   "source": [
    "---\n"
   ]
  },
  {
   "cell_type": "markdown",
   "metadata": {},
   "source": [
    "```bash\n",
    "  {\n",
    "    \"question\": \"ghi lại ý kiến này, hôm nay cần phải hoàn thành báo cáo cho ban lãnh đạo công ty\",\n",
    "    \"tools\": [\"todo\", \"calendar\"],\n",
    "    \"outputs\": [\n",
    "      {\n",
    "        \"tool\": \"todo\",\n",
    "        \"action\": \"create\",\n",
    "        \"content\": \"hoàn thành báo cáo cho ban lãnh đạo công ty\"\n",
    "      },\n",
    "      {\n",
    "        \"tool\": \"calendar\",\n",
    "        \"action\": \"create\",\n",
    "        \"content\": \"time:2025-03-13, content: hoàn thành báo cáo cho ban lãnh đạo công ty\"\n",
    "      }\n",
    "```"
   ]
  },
  {
   "cell_type": "markdown",
   "metadata": {},
   "source": [
    "# 2. tạo Dataset: \n"
   ]
  },
  {
   "cell_type": "markdown",
   "metadata": {},
   "source": [
    "MECE cho từng loại - chi tiết trong file excel. \n",
    "Về cơ bản thì: \n",
    "\n",
    "1. tool (thutuchanhchinh, todo, calendar, email, article, todo_and_calendar, ...) - action (create, read, update, delete, ...Có các loại action phổ biến nào cho tool này) - content (summary). \n",
    "\n",
    "2. MECE cho bộ dữ liệu: \n",
    "- action? đủ chưa? \n",
    "- Độ dài đa dạng : 5-10-15\n",
    "- Đa dạng về chủ đề và ngữ cảnh: \n",
    "- Câu không có đại từ nhân xưng vs câu có đại từ nhân xưng tôi, chúng tôi. "
   ]
  },
  {
   "cell_type": "markdown",
   "metadata": {},
   "source": []
  }
 ],
 "metadata": {
  "language_info": {
   "name": "python"
  }
 },
 "nbformat": 4,
 "nbformat_minor": 2
}
